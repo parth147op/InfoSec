{
 "cells": [
  {
   "cell_type": "code",
   "execution_count": 9,
   "metadata": {},
   "outputs": [
    {
     "name": "stdout",
     "output_type": "stream",
     "text": [
      "phi:  264\n",
      "We have selected e =  41\n",
      "We have selected d =  161\n",
      "URYKURRRAYY\n",
      "Unauthorized access\n",
      "None\n"
     ]
    }
   ],
   "source": [
    "import math\n",
    "import random\n",
    "\n",
    "def find_mod_inv(a,m):\n",
    "    for x in range(1,m):\n",
    "        if((a%m)*(x%m) % m==1):\n",
    "            return x\n",
    "    raise Exception('The modular inverse does not exist.')\n",
    "\n",
    "def encrypt_text(text, pq, public_key):\n",
    "    text = text.upper()\n",
    "    output_array = []\n",
    "    res = \"\"\n",
    "    for e in text:\n",
    "        output_array.append(int((((ord(e)-64) ** public_key) % pq)))\n",
    "    for i in output_array:\n",
    "        res += chr(i % 26 + 64)\n",
    "    print(res)\n",
    "    return output_array\n",
    "\n",
    "\n",
    "def decrypt_array(encrypt_array, pq, private_key, real_message):\n",
    "    output_text = \"\"\n",
    "    # output_text += str((int(e) ** private_key) % pq)\n",
    "    for e in encrypt_array:\n",
    "        output_text += chr(int(((e ** private_key) % pq)+96))\n",
    "    if output_text != real_message :\n",
    "        print(\"Unauthorized access\")\n",
    "    else :\n",
    "        return output_text\n",
    "\n",
    "\n",
    "def select_random_e(phi):\n",
    "    possible = []\n",
    "    for i in range(1, phi):\n",
    "        if math.gcd(i, phi) == 1:\n",
    "            possible.append(i)\n",
    "    return possible[random.randint(0, len(possible)-1)]\n",
    "\n",
    "\n",
    "p = 13\n",
    "q = 23\n",
    "phi = (p-1)*(q-1)\n",
    "print(\"phi: \", phi)\n",
    "e = select_random_e(phi)\n",
    "print(\"We have selected e = \", e)\n",
    "d = find_mod_inv(e, phi)\n",
    "print(\"We have selected d = \", d)\n",
    "\n",
    "encrypt_array = encrypt_text('hey there all'.replace(' ',''), p*q, e)\n",
    "decrypt_text = decrypt_array(encrypt_array, p*q, 45, 'hey there all'.replace(' ',''))\n",
    "print(decrypt_text)"
   ]
  }
 ],
 "metadata": {
  "kernelspec": {
   "display_name": "Python 3.10.4 64-bit",
   "language": "python",
   "name": "python3"
  },
  "language_info": {
   "codemirror_mode": {
    "name": "ipython",
    "version": 3
   },
   "file_extension": ".py",
   "mimetype": "text/x-python",
   "name": "python",
   "nbconvert_exporter": "python",
   "pygments_lexer": "ipython3",
   "version": "3.10.4"
  },
  "orig_nbformat": 4,
  "vscode": {
   "interpreter": {
    "hash": "8ac39944b2ba2bbcb0061d8fe87e9d7b8b559740abe8f99ee18ab33eebdb0cd7"
   }
  }
 },
 "nbformat": 4,
 "nbformat_minor": 2
}
